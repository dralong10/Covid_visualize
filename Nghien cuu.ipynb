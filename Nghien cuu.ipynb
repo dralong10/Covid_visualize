{
 "cells": [
  {
   "cell_type": "markdown",
   "metadata": {},
   "source": [
    "**Tìm hiểu các mối quan hệ**"
   ]
  },
  {
   "cell_type": "code",
   "execution_count": 112,
   "metadata": {},
   "outputs": [],
   "source": [
    "import pandas as pd\n",
    "import numpy as np\n",
    "import matplotlib.pyplot as plt\n",
    "import seaborn as sns"
   ]
  },
  {
   "cell_type": "code",
   "execution_count": 3,
   "metadata": {},
   "outputs": [
    {
     "data": {
      "text/html": [
       "<div>\n",
       "<style scoped>\n",
       "    .dataframe tbody tr th:only-of-type {\n",
       "        vertical-align: middle;\n",
       "    }\n",
       "\n",
       "    .dataframe tbody tr th {\n",
       "        vertical-align: top;\n",
       "    }\n",
       "\n",
       "    .dataframe thead th {\n",
       "        text-align: right;\n",
       "    }\n",
       "</style>\n",
       "<table border=\"1\" class=\"dataframe\">\n",
       "  <thead>\n",
       "    <tr style=\"text-align: right;\">\n",
       "      <th></th>\n",
       "      <th>Country</th>\n",
       "      <th>Total Cases</th>\n",
       "      <th>New Cases</th>\n",
       "      <th>TotalDeaths</th>\n",
       "      <th>NewDeaths</th>\n",
       "      <th>TotalRecovered</th>\n",
       "      <th>ActiveCases</th>\n",
       "      <th>Serious</th>\n",
       "      <th>Tot Cases/1M pop</th>\n",
       "      <th>Deaths/1M pop</th>\n",
       "      <th>Total Tests</th>\n",
       "      <th>Tests/1M pop</th>\n",
       "      <th>Population</th>\n",
       "      <th>Continent</th>\n",
       "    </tr>\n",
       "  </thead>\n",
       "  <tbody>\n",
       "    <tr>\n",
       "      <th>0</th>\n",
       "      <td>USA</td>\n",
       "      <td>32476153</td>\n",
       "      <td>51653.0</td>\n",
       "      <td>581573</td>\n",
       "      <td>498.0</td>\n",
       "      <td>25043463</td>\n",
       "      <td>6851117</td>\n",
       "      <td>9815.0</td>\n",
       "      <td>97655.0</td>\n",
       "      <td>1749.0</td>\n",
       "      <td>430886619.0</td>\n",
       "      <td>1295672.0</td>\n",
       "      <td>332558517</td>\n",
       "      <td>North America</td>\n",
       "    </tr>\n",
       "    <tr>\n",
       "      <th>1</th>\n",
       "      <td>India</td>\n",
       "      <td>15314714</td>\n",
       "      <td>256947.0</td>\n",
       "      <td>180550</td>\n",
       "      <td>1757.0</td>\n",
       "      <td>13103220</td>\n",
       "      <td>2030944</td>\n",
       "      <td>8944.0</td>\n",
       "      <td>11011.0</td>\n",
       "      <td>130.0</td>\n",
       "      <td>267894549.0</td>\n",
       "      <td>192610.0</td>\n",
       "      <td>1390864355</td>\n",
       "      <td>Asia</td>\n",
       "    </tr>\n",
       "    <tr>\n",
       "      <th>2</th>\n",
       "      <td>Brazil</td>\n",
       "      <td>13977713</td>\n",
       "      <td>34642.0</td>\n",
       "      <td>375049</td>\n",
       "      <td>1607.0</td>\n",
       "      <td>12460712</td>\n",
       "      <td>1141952</td>\n",
       "      <td>8318.0</td>\n",
       "      <td>65387.0</td>\n",
       "      <td>1754.0</td>\n",
       "      <td>28600000.0</td>\n",
       "      <td>133789.0</td>\n",
       "      <td>213770046</td>\n",
       "      <td>South America</td>\n",
       "    </tr>\n",
       "    <tr>\n",
       "      <th>3</th>\n",
       "      <td>France</td>\n",
       "      <td>5296822</td>\n",
       "      <td>7296.0</td>\n",
       "      <td>101222</td>\n",
       "      <td>489.0</td>\n",
       "      <td>4151289</td>\n",
       "      <td>1044311</td>\n",
       "      <td>5970.0</td>\n",
       "      <td>81004.0</td>\n",
       "      <td>1548.0</td>\n",
       "      <td>72613536.0</td>\n",
       "      <td>1110478.0</td>\n",
       "      <td>65389433</td>\n",
       "      <td>Europe</td>\n",
       "    </tr>\n",
       "    <tr>\n",
       "      <th>4</th>\n",
       "      <td>Russia</td>\n",
       "      <td>4710690</td>\n",
       "      <td>8589.0</td>\n",
       "      <td>105928</td>\n",
       "      <td>346.0</td>\n",
       "      <td>4333598</td>\n",
       "      <td>271164</td>\n",
       "      <td>2300.0</td>\n",
       "      <td>32268.0</td>\n",
       "      <td>726.0</td>\n",
       "      <td>126000000.0</td>\n",
       "      <td>863104.0</td>\n",
       "      <td>145984714</td>\n",
       "      <td>Europe</td>\n",
       "    </tr>\n",
       "  </tbody>\n",
       "</table>\n",
       "</div>"
      ],
      "text/plain": [
       "  Country  Total Cases  New Cases TotalDeaths  NewDeaths  TotalRecovered  \\\n",
       "0     USA     32476153    51653.0     581573       498.0        25043463   \n",
       "1   India     15314714   256947.0     180550      1757.0        13103220   \n",
       "2  Brazil     13977713    34642.0     375049      1607.0        12460712   \n",
       "3  France      5296822     7296.0     101222       489.0         4151289   \n",
       "4  Russia      4710690     8589.0     105928       346.0         4333598   \n",
       "\n",
       "   ActiveCases  Serious  Tot Cases/1M pop  Deaths/1M pop  Total Tests  \\\n",
       "0      6851117   9815.0           97655.0         1749.0  430886619.0   \n",
       "1      2030944   8944.0           11011.0          130.0  267894549.0   \n",
       "2      1141952   8318.0           65387.0         1754.0   28600000.0   \n",
       "3      1044311   5970.0           81004.0         1548.0   72613536.0   \n",
       "4       271164   2300.0           32268.0          726.0  126000000.0   \n",
       "\n",
       "   Tests/1M pop   Population      Continent  \n",
       "0     1295672.0   332558517   North America  \n",
       "1      192610.0  1390864355            Asia  \n",
       "2      133789.0   213770046   South America  \n",
       "3     1110478.0    65389433          Europe  \n",
       "4      863104.0   145984714          Europe  "
      ]
     },
     "execution_count": 3,
     "metadata": {},
     "output_type": "execute_result"
    }
   ],
   "source": [
    "data = pd.read_csv('COVID_4-19.csv')\n",
    "data.head()"
   ]
  },
  {
   "cell_type": "code",
   "execution_count": 4,
   "metadata": {},
   "outputs": [
    {
     "data": {
      "text/plain": [
       "(221, 14)"
      ]
     },
     "execution_count": 4,
     "metadata": {},
     "output_type": "execute_result"
    }
   ],
   "source": [
    "data.shape"
   ]
  },
  {
   "cell_type": "code",
   "execution_count": 5,
   "metadata": {},
   "outputs": [
    {
     "data": {
      "text/plain": [
       "Country              object\n",
       "Total Cases           int64\n",
       "New Cases           float64\n",
       "TotalDeaths          object\n",
       "NewDeaths           float64\n",
       "TotalRecovered        int64\n",
       "ActiveCases           int64\n",
       "Serious             float64\n",
       "Tot Cases/1M pop    float64\n",
       "Deaths/1M pop       float64\n",
       "Total Tests         float64\n",
       "Tests/1M pop        float64\n",
       "Population           object\n",
       "Continent            object\n",
       "dtype: object"
      ]
     },
     "execution_count": 5,
     "metadata": {},
     "output_type": "execute_result"
    }
   ],
   "source": [
    "data.dtypes"
   ]
  },
  {
   "cell_type": "code",
   "execution_count": 6,
   "metadata": {},
   "outputs": [
    {
     "data": {
      "text/plain": [
       "Country             MS Zaandam\n",
       "Total Cases                  9\n",
       "New Cases                  NaN\n",
       "TotalDeaths                 2 \n",
       "NewDeaths                  NaN\n",
       "TotalRecovered               7\n",
       "ActiveCases                  0\n",
       "Serious                    NaN\n",
       "Tot Cases/1M pop           NaN\n",
       "Deaths/1M pop              NaN\n",
       "Total Tests                NaN\n",
       "Tests/1M pop               NaN\n",
       "Population                    \n",
       "Continent                  NaN\n",
       "Name: 216, dtype: object"
      ]
     },
     "execution_count": 6,
     "metadata": {},
     "output_type": "execute_result"
    }
   ],
   "source": [
    "data.iloc[216]"
   ]
  },
  {
   "cell_type": "code",
   "execution_count": 7,
   "metadata": {},
   "outputs": [
    {
     "data": {
      "text/plain": [
       "<zip at 0xb9f3668>"
      ]
     },
     "execution_count": 7,
     "metadata": {},
     "output_type": "execute_result"
    }
   ],
   "source": [
    "data['Continent'].items()"
   ]
  },
  {
   "cell_type": "code",
   "execution_count": 8,
   "metadata": {},
   "outputs": [],
   "source": [
    "data['New Cases'] = data['New Cases'].fillna(0)"
   ]
  },
  {
   "cell_type": "code",
   "execution_count": 9,
   "metadata": {},
   "outputs": [],
   "source": [
    "data['NewDeaths'] = data['NewDeaths'].fillna(0)"
   ]
  },
  {
   "cell_type": "code",
   "execution_count": 10,
   "metadata": {},
   "outputs": [],
   "source": [
    "data['Serious'] = data['Serious'].fillna(0)"
   ]
  },
  {
   "cell_type": "code",
   "execution_count": 11,
   "metadata": {},
   "outputs": [],
   "source": [
    "data['Continent'] = data['Continent'].replace(np.nan,'Other')"
   ]
  },
  {
   "cell_type": "code",
   "execution_count": 12,
   "metadata": {},
   "outputs": [
    {
     "name": "stdout",
     "output_type": "stream",
     "text": [
      "North America\n",
      "Asia\n",
      "South America\n",
      "Europe\n",
      "Europe\n",
      "Europe\n",
      "Asia\n",
      "Europe\n",
      "Europe\n",
      "Europe\n",
      "South America\n",
      "Europe\n",
      "South America\n",
      "North America\n",
      "Asia\n",
      "Europe\n",
      "South America\n",
      "Asia\n",
      "Europe\n",
      "Africa\n",
      "Europe\n",
      "North America\n",
      "South America\n",
      "Europe\n",
      "Asia\n",
      "Europe\n",
      "Asia\n",
      "Europe\n",
      "Asia\n",
      "Europe\n",
      "Asia\n",
      "Europe\n",
      "Asia\n",
      "Asia\n",
      "Europe\n",
      "Europe\n",
      "Europe\n",
      "Asia\n",
      "Asia\n",
      "Africa\n",
      "Asia\n",
      "Asia\n",
      "Europe\n",
      "Asia\n",
      "Europe\n",
      "North America\n",
      "South America\n",
      "Europe\n",
      "Europe\n",
      "Europe\n",
      "Asia\n",
      "Asia\n",
      "Asia\n",
      "South America\n",
      "Africa\n",
      "Asia\n",
      "Asia\n",
      "North America\n",
      "Asia\n",
      "South America\n",
      "Europe\n",
      "Europe\n",
      "Africa\n",
      "Europe\n",
      "Europe\n",
      "Europe\n",
      "North America\n",
      "Africa\n",
      "North America\n",
      "Asia\n",
      "North America\n",
      "Asia\n",
      "Europe\n",
      "South America\n",
      "Asia\n",
      "Africa\n",
      "South America\n",
      "Asia\n",
      "Africa\n",
      "Africa\n",
      "Europe\n",
      "Asia\n",
      "Europe\n",
      "Africa\n",
      "Europe\n",
      "Asia\n",
      "Europe\n",
      "Europe\n",
      "Asia\n",
      "Europe\n",
      "North America\n",
      "Asia\n",
      "Africa\n",
      "Africa\n",
      "Asia\n",
      "Asia\n",
      "Europe\n",
      "Africa\n",
      "North America\n",
      "Europe\n",
      "Africa\n",
      "Asia\n",
      "Asia\n",
      "Asia\n",
      "Africa\n",
      "Africa\n",
      "Africa\n",
      "North America\n",
      "Asia\n",
      "Africa\n",
      "Africa\n",
      "Africa\n",
      "Africa\n",
      "Africa\n",
      "Africa\n",
      "Europe\n",
      "Australia/Oceania\n",
      "Africa\n",
      "Asia\n",
      "Africa\n",
      "Africa\n",
      "Asia\n",
      "Africa\n",
      "Africa\n",
      "Asia\n",
      "Africa\n",
      "Africa\n",
      "Australia/Oceania\n",
      "Africa\n",
      "Africa\n",
      "South America\n",
      "Africa\n",
      "Africa\n",
      "Asia\n",
      "Africa\n",
      "Africa\n",
      "North America\n",
      "Europe\n",
      "North America\n",
      "North America\n",
      "Africa\n",
      "North America\n",
      "South America\n",
      "Asia\n",
      "Africa\n",
      "Africa\n",
      "Africa\n",
      "North America\n",
      "Africa\n",
      "Australia/Oceania\n",
      "North America\n",
      "North America\n",
      "South America\n",
      "North America\n",
      "Africa\n",
      "Africa\n",
      "Asia\n",
      "North America\n",
      "Europe\n",
      "Asia\n",
      "Africa\n",
      "Africa\n",
      "Africa\n",
      "Europe\n",
      "Africa\n",
      "Africa\n",
      "North America\n",
      "Europe\n",
      "Europe\n",
      "Africa\n",
      "Africa\n",
      "North America\n",
      "Africa\n",
      "Africa\n",
      "Africa\n",
      "Europe\n",
      "Asia\n",
      "Australia/Oceania\n",
      "Europe\n",
      "North America\n",
      "Africa\n",
      "North America\n",
      "North America\n",
      "Africa\n",
      "North America\n",
      "North America\n",
      "Europe\n",
      "North America\n",
      "Asia\n",
      "North America\n",
      "Africa\n",
      "Asia\n",
      "Asia\n",
      "North America\n",
      "Other\n",
      "Europe\n",
      "North America\n",
      "Africa\n",
      "Australia/Oceania\n",
      "Asia\n",
      "North America\n",
      "North America\n",
      "North America\n",
      "Australia/Oceania\n",
      "Australia/Oceania\n",
      "South America\n",
      "Asia\n",
      "Asia\n",
      "North America\n",
      "North America\n",
      "North America\n",
      "Europe\n",
      "North America\n",
      "North America\n",
      "Australia/Oceania\n",
      "Africa\n",
      "Other\n",
      "Australia/Oceania\n",
      "Australia/Oceania\n",
      "Australia/Oceania\n",
      "Australia/Oceania\n"
     ]
    }
   ],
   "source": [
    "for idx,value in data['Continent'].items():\n",
    "    print(value)"
   ]
  },
  {
   "cell_type": "code",
   "execution_count": 13,
   "metadata": {},
   "outputs": [
    {
     "data": {
      "text/plain": [
       "array(['North America', 'Asia', 'South America', 'Europe', 'Africa',\n",
       "       'Australia/Oceania', 'Other'], dtype=object)"
      ]
     },
     "execution_count": 13,
     "metadata": {},
     "output_type": "execute_result"
    }
   ],
   "source": [
    "data['Continent'].unique()"
   ]
  },
  {
   "cell_type": "code",
   "execution_count": 14,
   "metadata": {},
   "outputs": [
    {
     "data": {
      "text/plain": [
       "0      False\n",
       "1      False\n",
       "2      False\n",
       "3      False\n",
       "4      False\n",
       "       ...  \n",
       "216     True\n",
       "217     True\n",
       "218     True\n",
       "219     True\n",
       "220     True\n",
       "Name: New Cases, Length: 221, dtype: bool"
      ]
     },
     "execution_count": 14,
     "metadata": {},
     "output_type": "execute_result"
    }
   ],
   "source": [
    "data['New Cases'] == 0.0"
   ]
  },
  {
   "cell_type": "code",
   "execution_count": null,
   "metadata": {},
   "outputs": [],
   "source": []
  },
  {
   "cell_type": "code",
   "execution_count": 15,
   "metadata": {},
   "outputs": [
    {
     "data": {
      "text/plain": [
       "0      False\n",
       "1      False\n",
       "2      False\n",
       "3      False\n",
       "4      False\n",
       "       ...  \n",
       "216    False\n",
       "217    False\n",
       "218    False\n",
       "219    False\n",
       "220    False\n",
       "Name: Continent, Length: 221, dtype: bool"
      ]
     },
     "execution_count": 15,
     "metadata": {},
     "output_type": "execute_result"
    }
   ],
   "source": [
    "data['Continent'].isnull()"
   ]
  },
  {
   "cell_type": "code",
   "execution_count": 16,
   "metadata": {},
   "outputs": [
    {
     "data": {
      "text/plain": [
       "Country             MS Zaandam\n",
       "Total Cases                  9\n",
       "New Cases                    0\n",
       "TotalDeaths                 2 \n",
       "NewDeaths                    0\n",
       "TotalRecovered               7\n",
       "ActiveCases                  0\n",
       "Serious                      0\n",
       "Tot Cases/1M pop           NaN\n",
       "Deaths/1M pop              NaN\n",
       "Total Tests                NaN\n",
       "Tests/1M pop               NaN\n",
       "Population                    \n",
       "Continent                Other\n",
       "Name: 216, dtype: object"
      ]
     },
     "execution_count": 16,
     "metadata": {},
     "output_type": "execute_result"
    }
   ],
   "source": [
    "data.iloc[216]"
   ]
  },
  {
   "cell_type": "code",
   "execution_count": 17,
   "metadata": {},
   "outputs": [
    {
     "data": {
      "text/plain": [
       "0          North America\n",
       "1                   Asia\n",
       "2          South America\n",
       "3                 Europe\n",
       "4                 Europe\n",
       "             ...        \n",
       "216                Other\n",
       "217    Australia/Oceania\n",
       "218    Australia/Oceania\n",
       "219    Australia/Oceania\n",
       "220    Australia/Oceania\n",
       "Name: Continent, Length: 221, dtype: object"
      ]
     },
     "execution_count": 17,
     "metadata": {},
     "output_type": "execute_result"
    }
   ],
   "source": [
    "data['Continent'].dropna()"
   ]
  },
  {
   "cell_type": "code",
   "execution_count": 18,
   "metadata": {},
   "outputs": [
    {
     "data": {
      "text/plain": [
       "0"
      ]
     },
     "execution_count": 18,
     "metadata": {},
     "output_type": "execute_result"
    }
   ],
   "source": [
    "data['Continent'].isna().sum()"
   ]
  },
  {
   "cell_type": "code",
   "execution_count": 19,
   "metadata": {},
   "outputs": [
    {
     "data": {
      "text/plain": [
       "Country              0\n",
       "Total Cases          0\n",
       "New Cases            0\n",
       "TotalDeaths          0\n",
       "NewDeaths            0\n",
       "TotalRecovered       0\n",
       "ActiveCases          0\n",
       "Serious              0\n",
       "Tot Cases/1M pop     2\n",
       "Deaths/1M pop       17\n",
       "Total Tests         11\n",
       "Tests/1M pop        11\n",
       "Population           0\n",
       "Continent            0\n",
       "dtype: int64"
      ]
     },
     "execution_count": 19,
     "metadata": {},
     "output_type": "execute_result"
    }
   ],
   "source": [
    "data.isna().sum()"
   ]
  },
  {
   "cell_type": "markdown",
   "metadata": {},
   "source": [
    "---\n",
    "bỏ dòng *MS Zaandam* với *Diamond Princess*\n",
    "\n",
    "Replace = 0 tất cả ô thiếu\n",
    "\n",
    "Chuyển total death, Populrtion sang int64\n",
    "\n",
    "\n"
   ]
  },
  {
   "cell_type": "code",
   "execution_count": 20,
   "metadata": {},
   "outputs": [],
   "source": [
    "data_ele = data.loc[(data[\"Country\"] == 'MS Zaandam') | (data[\"Country\"] == 'Diamond Princess')]\n",
    "data = data.drop(data.index[list(data_ele.index)])\n",
    "data = data.replace(r'^\\s*$', 0, regex=True)\n",
    "data['TotalDeaths'] = data['TotalDeaths'].astype('int64')"
   ]
  },
  {
   "cell_type": "code",
   "execution_count": 21,
   "metadata": {},
   "outputs": [],
   "source": [
    "data['Population'] = data['Population'].astype('int64')"
   ]
  },
  {
   "cell_type": "code",
   "execution_count": 22,
   "metadata": {},
   "outputs": [
    {
     "data": {
      "text/plain": [
       "Country              object\n",
       "Total Cases           int64\n",
       "New Cases           float64\n",
       "TotalDeaths           int64\n",
       "NewDeaths           float64\n",
       "TotalRecovered        int64\n",
       "ActiveCases           int64\n",
       "Serious             float64\n",
       "Tot Cases/1M pop    float64\n",
       "Deaths/1M pop       float64\n",
       "Total Tests         float64\n",
       "Tests/1M pop        float64\n",
       "Population            int64\n",
       "Continent            object\n",
       "dtype: object"
      ]
     },
     "execution_count": 22,
     "metadata": {},
     "output_type": "execute_result"
    }
   ],
   "source": [
    "data.dtypes"
   ]
  },
  {
   "cell_type": "code",
   "execution_count": 23,
   "metadata": {},
   "outputs": [],
   "source": [
    "data1 = data[['Country','Total Cases','TotalDeaths']]\n"
   ]
  },
  {
   "cell_type": "code",
   "execution_count": 24,
   "metadata": {},
   "outputs": [
    {
     "data": {
      "text/html": [
       "<div>\n",
       "<style scoped>\n",
       "    .dataframe tbody tr th:only-of-type {\n",
       "        vertical-align: middle;\n",
       "    }\n",
       "\n",
       "    .dataframe tbody tr th {\n",
       "        vertical-align: top;\n",
       "    }\n",
       "\n",
       "    .dataframe thead th {\n",
       "        text-align: right;\n",
       "    }\n",
       "</style>\n",
       "<table border=\"1\" class=\"dataframe\">\n",
       "  <thead>\n",
       "    <tr style=\"text-align: right;\">\n",
       "      <th></th>\n",
       "      <th>Country</th>\n",
       "      <th>Total Cases</th>\n",
       "      <th>TotalDeaths</th>\n",
       "    </tr>\n",
       "  </thead>\n",
       "  <tbody>\n",
       "    <tr>\n",
       "      <th>0</th>\n",
       "      <td>USA</td>\n",
       "      <td>32476153</td>\n",
       "      <td>581573</td>\n",
       "    </tr>\n",
       "    <tr>\n",
       "      <th>1</th>\n",
       "      <td>India</td>\n",
       "      <td>15314714</td>\n",
       "      <td>180550</td>\n",
       "    </tr>\n",
       "    <tr>\n",
       "      <th>2</th>\n",
       "      <td>Brazil</td>\n",
       "      <td>13977713</td>\n",
       "      <td>375049</td>\n",
       "    </tr>\n",
       "    <tr>\n",
       "      <th>3</th>\n",
       "      <td>France</td>\n",
       "      <td>5296822</td>\n",
       "      <td>101222</td>\n",
       "    </tr>\n",
       "    <tr>\n",
       "      <th>4</th>\n",
       "      <td>Russia</td>\n",
       "      <td>4710690</td>\n",
       "      <td>105928</td>\n",
       "    </tr>\n",
       "  </tbody>\n",
       "</table>\n",
       "</div>"
      ],
      "text/plain": [
       "  Country  Total Cases  TotalDeaths\n",
       "0     USA     32476153       581573\n",
       "1   India     15314714       180550\n",
       "2  Brazil     13977713       375049\n",
       "3  France      5296822       101222\n",
       "4  Russia      4710690       105928"
      ]
     },
     "execution_count": 24,
     "metadata": {},
     "output_type": "execute_result"
    }
   ],
   "source": [
    "data1.head()"
   ]
  },
  {
   "cell_type": "code",
   "execution_count": 135,
   "metadata": {},
   "outputs": [
    {
     "data": {
      "image/png": "[encoded data removed]",
      "text/plain": [
       "<Figure size 432x288 with 2 Axes>"
      ]
     },
     "metadata": {
      "needs_background": "light"
     },
     "output_type": "display_data"
    }
   ],
   "source": [
    "test = data[['Country','Total Cases','TotalDeaths']]\n",
    "test.set_index('Country',inplace = True)\n",
    "test\n",
    "gx = sns.heatmap(test,vmin = 0, vmax = 10)"
   ]
  },
  {
   "cell_type": "code",
   "execution_count": 125,
   "metadata": {
    "scrolled": true
   },
   "outputs": [
    {
     "name": "stderr",
     "output_type": "stream",
     "text": [
      "<ipython-input-125-7640e53efddd>:3: SettingWithCopyWarning: \n",
      "A value is trying to be set on a copy of a slice from a DataFrame\n",
      "\n",
      "See the caveats in the documentation: https://pandas.pydata.org/pandas-docs/stable/user_guide/indexing.html#returning-a-view-versus-a-copy\n",
      "  top15_total_cases_population.sort_values(by = 'New Cases', ascending = False, ignore_index = True, inplace = True)\n"
     ]
    },
    {
     "data": {
      "image/png": "[encoded data removed]",
      "text/plain": [
       "<Figure size 1440x432 with 2 Axes>"
      ]
     },
     "metadata": {
      "needs_background": "light"
     },
     "output_type": "display_data"
    }
   ],
   "source": [
    "#\n",
    "top15_total_cases_population = data[['Country','New Cases','Population']]\n",
    "top15_total_cases_population.sort_values(by = 'New Cases', ascending = False, ignore_index = True, inplace = True)\n",
    "top15_total_cases_population = top15_total_cases_population.head(15)\n",
    "#\n",
    "fig ,cx1 = plt.subplots(figsize = (20,6))\n",
    "color = 'Skyblue'\n",
    "#\n",
    "cx1.set_title('RELATIONSHIP BETWEEN TOTAL CASES AND POPULATION', fontsize = 16)\n",
    "cx1.set_xlabel('Country', fontsize = 16)\n",
    "cx1.set_ylabel('New Cases', fontsize = 16)\n",
    "cx1 = sns.barplot(x = 'Country', y = 'Population', data = top15_total_cases_population, color = color)\n",
    "\n",
    "cx2 = cx1.twinx()\n",
    "\n",
    "cx2.set_ylabel('New Cases', fontsize = 16)\n",
    "color = 'Red'\n",
    "cx2 = sns.lineplot(x = 'Country', y = 'New Cases', data = top15_total_cases_population, color = color)\n"
   ]
  },
  {
   "cell_type": "code",
   "execution_count": 99,
   "metadata": {},
   "outputs": [
    {
     "name": "stderr",
     "output_type": "stream",
     "text": [
      "<ipython-input-99-657fa949c83f>:2: SettingWithCopyWarning: \n",
      "A value is trying to be set on a copy of a slice from a DataFrame\n",
      "\n",
      "See the caveats in the documentation: https://pandas.pydata.org/pandas-docs/stable/user_guide/indexing.html#returning-a-view-versus-a-copy\n",
      "  top15_new_cases.sort_values(by = 'New Cases', ascending = False,ignore_index=True, inplace = True)\n"
     ]
    },
    {
     "data": {
      "image/png": "[encoded data removed]",
      "text/plain": [
       "<Figure size 432x288 with 1 Axes>"
      ]
     },
     "metadata": {
      "needs_background": "light"
     },
     "output_type": "display_data"
    }
   ],
   "source": [
    "top15_new_cases = data[['Country','New Cases']]\n",
    "top15_new_cases.sort_values(by = 'New Cases', ascending = False,ignore_index=True, inplace = True)\n",
    "top15_new_cases = top15_new_cases.head(15)\n",
    "##\n",
    "my_colors = [(0.65, x/20.0, x/20.0) for x in range(20)]\n",
    "##\n",
    "\n",
    "##\n",
    "ax = top15_new_cases.plot.bar(x = 'Country', y = 'New Cases', rot = 90, color = my_colors)"
   ]
  },
  {
   "cell_type": "code",
   "execution_count": 100,
   "metadata": {},
   "outputs": [
    {
     "name": "stderr",
     "output_type": "stream",
     "text": [
      "<ipython-input-100-c0b8d05001fe>:2: SettingWithCopyWarning: \n",
      "A value is trying to be set on a copy of a slice from a DataFrame\n",
      "\n",
      "See the caveats in the documentation: https://pandas.pydata.org/pandas-docs/stable/user_guide/indexing.html#returning-a-view-versus-a-copy\n",
      "  top15_new_deaths.sort_values(by = 'NewDeaths', ascending = False, ignore_index = True, inplace = True)\n"
     ]
    },
    {
     "data": {
      "image/png": "[encoded data removed]",
      "text/plain": [
       "<Figure size 432x288 with 1 Axes>"
      ]
     },
     "metadata": {
      "needs_background": "light"
     },
     "output_type": "display_data"
    }
   ],
   "source": [
    "top15_new_deaths = data[['Country','NewDeaths']]\n",
    "top15_new_deaths.sort_values(by = 'NewDeaths', ascending = False, ignore_index = True, inplace = True)\n",
    "top15_new_deaths = top15_new_deaths.head(15)\n",
    "my_colors = [(0.65, x/20.0, x/20.0) for x in range(20)]\n",
    "bx = top15_new_deaths.plot.bar(x = 'Country', y = 'NewDeaths', rot = 90, color = my_colors)"
   ]
  },
  {
   "cell_type": "code",
   "execution_count": null,
   "metadata": {},
   "outputs": [],
   "source": [
    "top15_deaths = data1[['Country','TotalDeaths']]\n",
    "top15_deaths.sort_values(by = 'TotalDeaths', ascending = False,ignore_index=True, inplace = True)\n",
    "top15_deaths.head(15)"
   ]
  },
  {
   "cell_type": "code",
   "execution_count": 34,
   "metadata": {},
   "outputs": [
    {
     "name": "stderr",
     "output_type": "stream",
     "text": [
      "<ipython-input-34-502278918aa2>:2: SettingWithCopyWarning: \n",
      "A value is trying to be set on a copy of a slice from a DataFrame\n",
      "\n",
      "See the caveats in the documentation: https://pandas.pydata.org/pandas-docs/stable/user_guide/indexing.html#returning-a-view-versus-a-copy\n",
      "  top15_deaths.sort_values(by = 'TotalDeaths', ascending = False,ignore_index=True, inplace = True)\n"
     ]
    },
    {
     "data": {
      "image/png": "[encoded data removed]",
      "text/plain": [
       "<Figure size 1080x648 with 1 Axes>"
      ]
     },
     "metadata": {
      "needs_background": "light"
     },
     "output_type": "display_data"
    }
   ],
   "source": [
    "top15_deaths = data1[['Country','TotalDeaths']]\n",
    "top15_deaths.sort_values(by = 'TotalDeaths', ascending = False,ignore_index=True, inplace = True)\n",
    "top15_deaths = top15_deaths.head(15)\n",
    "\n",
    "names = top15_deaths['Country']\n",
    "values = top15_deaths['TotalDeaths']\n",
    "\n",
    "color = []\n",
    "s = 0\n",
    "for i in range(len(names)-1):\n",
    "        color.append((1,s/600000,0))\n",
    "        s += (values[i] - values[i+1])\n",
    "color.append((1,s/600000,0))\n",
    "plt.figure(figsize=(15, 9))\n",
    "plt.ylim([0,700])\n",
    "plt.scatter( x = names, y = values/1000,\n",
    "             s = values/50, c = color, alpha=0.5)\n",
    "plt.ylabel('Total death (thousand)' )\n",
    "plt.title('TOP 15 HIGHEST TOTAL DEATH')\n",
    "plt.show()"
   ]
  },
  {
   "cell_type": "code",
   "execution_count": 35,
   "metadata": {},
   "outputs": [
    {
     "data": {
      "text/plain": [
       "<BarContainer object of 15 artists>"
      ]
     },
     "execution_count": 35,
     "metadata": {},
     "output_type": "execute_result"
    },
    {
     "data": {
      "image/png": "[encoded data removed]",
      "text/plain": [
       "<Figure size 1080x648 with 1 Axes>"
      ]
     },
     "metadata": {
      "needs_background": "light"
     },
     "output_type": "display_data"
    }
   ],
   "source": [
    "top15_case = data[['Country','Total Cases']]\n",
    "\n",
    "top15_case = top15_case.head(15)\n",
    "\n",
    "names = top15_case['Country']\n",
    "values = top15_case['Total Cases']\n",
    "\n",
    "c = []\n",
    "s = 0\n",
    "for i in range(len(names)-1):\n",
    "        c.append((0,s/75_000_000,0.2))\n",
    "        s += (values[i] - values[i+1])\n",
    "c.append((0,s/75_000_000,0.2))\n",
    "\n",
    "c\n",
    "plt.figure(figsize=(15, 9))\n",
    "\n",
    "plt.title('TOP 15 HIGHEST TOTAL CASES')\n",
    "plt.xlabel('Total cases: *10 Million')\n",
    "\n",
    "plt.barh(names, values,color = c)"
   ]
  },
  {
   "cell_type": "code",
   "execution_count": 36,
   "metadata": {},
   "outputs": [
    {
     "data": {
      "image/png": "[encoded data removed]",
      "text/plain": [
       "<Figure size 1800x936 with 1 Axes>"
      ]
     },
     "metadata": {
      "needs_background": "light"
     },
     "output_type": "display_data"
    }
   ],
   "source": [
    "top15_distribute = data[['Country','TotalDeaths','TotalRecovered','ActiveCases']].head(15)\n",
    "\n",
    "\n",
    "labels = top15_distribute['Country']\n",
    "death = top15_distribute['TotalDeaths']\n",
    "recover = top15_distribute['TotalRecovered']\n",
    "active = top15_distribute['ActiveCases']\n",
    "\n",
    "       # the width of the bars: can also be len(x) sequence\n",
    "\n",
    "fig, ax = plt.subplots(figsize=(25,13))\n",
    "\n",
    "ax.barh(labels, death , label='Death',color = (1,0.25,0))\n",
    "ax.barh(labels, recover, left = death,label='Recover',color = (0,0.55,0),alpha = 0.5)\n",
    "ax.barh(labels, active,  left = recover,label='Active')\n",
    "\n",
    "ax.set_ylabel('Country')\n",
    "ax.set_xlabel('Total cases (*10 Million)')\n",
    "ax.set_title('DISTRIBUTION OF DEATH - RECOVER - ACTIVE IN TOTAL CASES')\n",
    "ax.legend()\n",
    "\n",
    "plt.show()"
   ]
  },
  {
   "cell_type": "markdown",
   "metadata": {},
   "source": [
    "---\n",
    "Mối quan hệ giữa số cases và số chết: có thế có đường thằng tuyến tính"
   ]
  },
  {
   "cell_type": "code",
   "execution_count": 37,
   "metadata": {},
   "outputs": [
    {
     "data": {
      "image/png": "[encoded data removed]",
      "text/plain": [
       "<Figure size 432x288 with 1 Axes>"
      ]
     },
     "metadata": {
      "needs_background": "light"
     },
     "output_type": "display_data"
    }
   ],
   "source": [
    "x = data1['Total Cases']\n",
    "y = data1['TotalDeaths']\n",
    "\n",
    "\n",
    "plt.ylim([0, 700000])\n",
    "plt.yticks(np.arange(min(y), max(y)+1, 100000))\n",
    "plt.scatter(x,y)\n",
    "plt.show()"
   ]
  },
  {
   "cell_type": "code",
   "execution_count": 38,
   "metadata": {},
   "outputs": [
    {
     "data": {
      "image/png": "[encoded data removed]",
      "text/plain": [
       "<Figure size 432x288 with 1 Axes>"
      ]
     },
     "metadata": {
      "needs_background": "light"
     },
     "output_type": "display_data"
    }
   ],
   "source": [
    "x = data['Total Cases']\n",
    "y = data['Total Tests']\n",
    "\n",
    "plt.scatter(x,y)\n",
    "plt.show()"
   ]
  },
  {
   "cell_type": "code",
   "execution_count": 39,
   "metadata": {},
   "outputs": [
    {
     "data": {
      "text/html": [
       "<div>\n",
       "<style scoped>\n",
       "    .dataframe tbody tr th:only-of-type {\n",
       "        vertical-align: middle;\n",
       "    }\n",
       "\n",
       "    .dataframe tbody tr th {\n",
       "        vertical-align: top;\n",
       "    }\n",
       "\n",
       "    .dataframe thead th {\n",
       "        text-align: right;\n",
       "    }\n",
       "</style>\n",
       "<table border=\"1\" class=\"dataframe\">\n",
       "  <thead>\n",
       "    <tr style=\"text-align: right;\">\n",
       "      <th></th>\n",
       "      <th>Total Cases</th>\n",
       "      <th>New Cases</th>\n",
       "      <th>TotalDeaths</th>\n",
       "      <th>NewDeaths</th>\n",
       "      <th>TotalRecovered</th>\n",
       "      <th>ActiveCases</th>\n",
       "      <th>Serious</th>\n",
       "      <th>Tot Cases/1M pop</th>\n",
       "      <th>Deaths/1M pop</th>\n",
       "      <th>Total Tests</th>\n",
       "      <th>Tests/1M pop</th>\n",
       "      <th>Population</th>\n",
       "    </tr>\n",
       "    <tr>\n",
       "      <th>Continent</th>\n",
       "      <th></th>\n",
       "      <th></th>\n",
       "      <th></th>\n",
       "      <th></th>\n",
       "      <th></th>\n",
       "      <th></th>\n",
       "      <th></th>\n",
       "      <th></th>\n",
       "      <th></th>\n",
       "      <th></th>\n",
       "      <th></th>\n",
       "      <th></th>\n",
       "    </tr>\n",
       "  </thead>\n",
       "  <tbody>\n",
       "    <tr>\n",
       "      <th>Africa</th>\n",
       "      <td>4478163</td>\n",
       "      <td>8927.0</td>\n",
       "      <td>118501</td>\n",
       "      <td>234.0</td>\n",
       "      <td>3996320</td>\n",
       "      <td>363342</td>\n",
       "      <td>3776.0</td>\n",
       "      <td>422743.0</td>\n",
       "      <td>6750.8</td>\n",
       "      <td>42971859.0</td>\n",
       "      <td>4185245.0</td>\n",
       "      <td>1366127240</td>\n",
       "    </tr>\n",
       "    <tr>\n",
       "      <th>Asia</th>\n",
       "      <td>34204503</td>\n",
       "      <td>400161.0</td>\n",
       "      <td>470857</td>\n",
       "      <td>3295.0</td>\n",
       "      <td>29740820</td>\n",
       "      <td>3992826</td>\n",
       "      <td>29611.0</td>\n",
       "      <td>1106331.0</td>\n",
       "      <td>10906.9</td>\n",
       "      <td>727097321.0</td>\n",
       "      <td>25980954.0</td>\n",
       "      <td>4636590526</td>\n",
       "    </tr>\n",
       "    <tr>\n",
       "      <th>Australia/Oceania</th>\n",
       "      <td>61466</td>\n",
       "      <td>260.0</td>\n",
       "      <td>1175</td>\n",
       "      <td>2.0</td>\n",
       "      <td>34790</td>\n",
       "      <td>25501</td>\n",
       "      <td>4.0</td>\n",
       "      <td>109228.0</td>\n",
       "      <td>1003.0</td>\n",
       "      <td>18545555.0</td>\n",
       "      <td>2283559.0</td>\n",
       "      <td>42691595</td>\n",
       "    </tr>\n",
       "    <tr>\n",
       "      <th>Europe</th>\n",
       "      <td>42967972</td>\n",
       "      <td>99538.0</td>\n",
       "      <td>978619</td>\n",
       "      <td>2827.0</td>\n",
       "      <td>37332669</td>\n",
       "      <td>4656684</td>\n",
       "      <td>32666.0</td>\n",
       "      <td>3283840.0</td>\n",
       "      <td>62474.0</td>\n",
       "      <td>708579796.0</td>\n",
       "      <td>61874902.0</td>\n",
       "      <td>747993083</td>\n",
       "    </tr>\n",
       "    <tr>\n",
       "      <th>North America</th>\n",
       "      <td>37506600</td>\n",
       "      <td>67278.0</td>\n",
       "      <td>847593</td>\n",
       "      <td>708.0</td>\n",
       "      <td>29188674</td>\n",
       "      <td>7470333</td>\n",
       "      <td>17193.0</td>\n",
       "      <td>1092296.0</td>\n",
       "      <td>14854.0</td>\n",
       "      <td>479988831.0</td>\n",
       "      <td>23165738.0</td>\n",
       "      <td>592803946</td>\n",
       "    </tr>\n",
       "    <tr>\n",
       "      <th>South America</th>\n",
       "      <td>23491992</td>\n",
       "      <td>85708.0</td>\n",
       "      <td>626273</td>\n",
       "      <td>2852.0</td>\n",
       "      <td>21120280</td>\n",
       "      <td>1745439</td>\n",
       "      <td>24924.0</td>\n",
       "      <td>529850.0</td>\n",
       "      <td>11860.0</td>\n",
       "      <td>84287132.0</td>\n",
       "      <td>5382878.0</td>\n",
       "      <td>433604585</td>\n",
       "    </tr>\n",
       "  </tbody>\n",
       "</table>\n",
       "</div>"
      ],
      "text/plain": [
       "                   Total Cases  New Cases  TotalDeaths  NewDeaths  \\\n",
       "Continent                                                           \n",
       "Africa                 4478163     8927.0       118501      234.0   \n",
       "Asia                  34204503   400161.0       470857     3295.0   \n",
       "Australia/Oceania        61466      260.0         1175        2.0   \n",
       "Europe                42967972    99538.0       978619     2827.0   \n",
       "North America         37506600    67278.0       847593      708.0   \n",
       "South America         23491992    85708.0       626273     2852.0   \n",
       "\n",
       "                   TotalRecovered  ActiveCases  Serious  Tot Cases/1M pop  \\\n",
       "Continent                                                                   \n",
       "Africa                    3996320       363342   3776.0          422743.0   \n",
       "Asia                     29740820      3992826  29611.0         1106331.0   \n",
       "Australia/Oceania           34790        25501      4.0          109228.0   \n",
       "Europe                   37332669      4656684  32666.0         3283840.0   \n",
       "North America            29188674      7470333  17193.0         1092296.0   \n",
       "South America            21120280      1745439  24924.0          529850.0   \n",
       "\n",
       "                   Deaths/1M pop  Total Tests  Tests/1M pop  Population  \n",
       "Continent                                                                \n",
       "Africa                    6750.8   42971859.0     4185245.0  1366127240  \n",
       "Asia                     10906.9  727097321.0    25980954.0  4636590526  \n",
       "Australia/Oceania         1003.0   18545555.0     2283559.0    42691595  \n",
       "Europe                   62474.0  708579796.0    61874902.0   747993083  \n",
       "North America            14854.0  479988831.0    23165738.0   592803946  \n",
       "South America            11860.0   84287132.0     5382878.0   433604585  "
      ]
     },
     "execution_count": 39,
     "metadata": {},
     "output_type": "execute_result"
    }
   ],
   "source": [
    "continent_data = data.groupby(by = 'Continent').sum()\n",
    "continent_data"
   ]
  },
  {
   "cell_type": "code",
   "execution_count": 40,
   "metadata": {},
   "outputs": [
    {
     "data": {
      "text/plain": [
       "Continent\n",
       "Africa                3.41\n",
       "Asia                 21.14\n",
       "Australia/Oceania     1.86\n",
       "Europe               50.36\n",
       "North America        18.85\n",
       "South America         4.38\n",
       "Name: Tests/1M pop, dtype: float64"
      ]
     },
     "execution_count": 40,
     "metadata": {},
     "output_type": "execute_result"
    }
   ],
   "source": [
    "test_1M_percentage = (continent_data['Tests/1M pop']/sum(continent_data['Tests/1M pop'])*100).round(2)\n",
    "test_1M_percentage                      "
   ]
  },
  {
   "cell_type": "code",
   "execution_count": 41,
   "metadata": {},
   "outputs": [
    {
     "data": {
      "text/plain": [
       "Index(['Africa', 'Asia', 'Australia/Oceania', 'Europe', 'North America',\n",
       "       'South America'],\n",
       "      dtype='object', name='Continent')"
      ]
     },
     "execution_count": 41,
     "metadata": {},
     "output_type": "execute_result"
    }
   ],
   "source": [
    "continent_data.index"
   ]
  },
  {
   "cell_type": "code",
   "execution_count": 42,
   "metadata": {},
   "outputs": [
    {
     "data": {
      "text/plain": [
       "array(['North America', 'Asia', 'South America', 'Europe', 'Africa',\n",
       "       'Australia/Oceania'], dtype=object)"
      ]
     },
     "execution_count": 42,
     "metadata": {},
     "output_type": "execute_result"
    }
   ],
   "source": [
    "data['Continent'].unique()"
   ]
  },
  {
   "cell_type": "code",
   "execution_count": 43,
   "metadata": {},
   "outputs": [
    {
     "data": {
      "text/plain": [
       "[4478163, 34204503, 61466, 42967972, 37506600, 23491992]"
      ]
     },
     "execution_count": 43,
     "metadata": {},
     "output_type": "execute_result"
    }
   ],
   "source": [
    "list(continent_data['Total Cases'])"
   ]
  },
  {
   "cell_type": "code",
   "execution_count": 44,
   "metadata": {},
   "outputs": [
    {
     "data": {
      "image/png": "[encoded data removed]",
      "text/plain": [
       "<Figure size 504x504 with 1 Axes>"
      ]
     },
     "metadata": {},
     "output_type": "display_data"
    }
   ],
   "source": [
    "#Continent\n",
    "#Total Cases\n",
    "labels = list(continent_data.index)\n",
    "sizes = list(continent_data['Total Cases'])\n",
    "explode = (0,0,0,0,0,0)\n",
    "plt.figure(figsize = (7,7))\n",
    "plt.pie(sizes,labels = labels, autopct = '%1.1f%%', explode = explode, shadow = True, startangle = 90)\n",
    "plt.axis('image')\n",
    "plt.show()"
   ]
  },
  {
   "cell_type": "code",
   "execution_count": 45,
   "metadata": {},
   "outputs": [
    {
     "data": {
      "image/png": "[encoded data removed]",
      "text/plain": [
       "<Figure size 504x504 with 1 Axes>"
      ]
     },
     "metadata": {},
     "output_type": "display_data"
    }
   ],
   "source": [
    "labels = list(continent_data.index)\n",
    "sizes = list(test_1M_percentage)\n",
    "explode = (0,0,0,0.05,0,0)\n",
    "plt.figure(figsize = (7,7))\n",
    "plt.pie(sizes, labels=labels, autopct='%1.1f%%',explode = explode,\n",
    "        shadow=True, startangle=90)\n",
    "plt.axis('equal')  # Equal aspect ratio ensures that pie is drawn as a circle.\n",
    "plt.title(\"PERCENTAGE OF TEST ON 1M PEOPLE AMONG CONTINENTS\", y = 1.1)\n",
    "plt.show()"
   ]
  },
  {
   "cell_type": "code",
   "execution_count": null,
   "metadata": {},
   "outputs": [],
   "source": [
    "positive = (continent_data['Total Cases']/continent_data['Total Tests']*100).round(2)\n",
    "negative = ((continent_data['Total Tests'] - continent_data['Total Cases']) / continent_data['Total Tests']*100).round(2)\n",
    "negative_positive = pd.DataFrame({\n",
    "                                  'Pos':positive,\n",
    "                                  'Nega':negative})"
   ]
  },
  {
   "cell_type": "code",
   "execution_count": 101,
   "metadata": {},
   "outputs": [
    {
     "ename": "NameError",
     "evalue": "name 'negative_positive' is not defined",
     "output_type": "error",
     "traceback": [
      "\u001b[1;31m---------------------------------------------------------------------------\u001b[0m",
      "\u001b[1;31mNameError\u001b[0m                                 Traceback (most recent call last)",
      "\u001b[1;32m<ipython-input-101-b78ada254f8d>\u001b[0m in \u001b[0;36m<module>\u001b[1;34m\u001b[0m\n\u001b[0;32m      6\u001b[0m \u001b[1;33m\u001b[0m\u001b[0m\n\u001b[0;32m      7\u001b[0m \u001b[0mplt\u001b[0m\u001b[1;33m.\u001b[0m\u001b[0msubplot\u001b[0m\u001b[1;33m(\u001b[0m\u001b[1;36m321\u001b[0m\u001b[1;33m)\u001b[0m\u001b[1;33m\u001b[0m\u001b[1;33m\u001b[0m\u001b[0m\n\u001b[1;32m----> 8\u001b[1;33m plt.pie(negative_positive[negative_positive.index == 'Asia'].values.tolist()[0],labels = labels, explode = explode, autopct = '%.1f%%', \n\u001b[0m\u001b[0;32m      9\u001b[0m         startangle = 90, colors = colors, shadow = True)\n\u001b[0;32m     10\u001b[0m \u001b[0mplt\u001b[0m\u001b[1;33m.\u001b[0m\u001b[0mtitle\u001b[0m\u001b[1;33m(\u001b[0m\u001b[1;34m'Asia'\u001b[0m\u001b[1;33m,\u001b[0m \u001b[0mfontsize\u001b[0m \u001b[1;33m=\u001b[0m \u001b[1;36m15\u001b[0m\u001b[1;33m)\u001b[0m\u001b[1;33m\u001b[0m\u001b[1;33m\u001b[0m\u001b[0m\n",
      "\u001b[1;31mNameError\u001b[0m: name 'negative_positive' is not defined"
     ]
    },
    {
     "data": {
      "image/png": "[encoded data removed]",
      "text/plain": [
       "<Figure size 1080x1080 with 1 Axes>"
      ]
     },
     "metadata": {
      "needs_background": "light"
     },
     "output_type": "display_data"
    }
   ],
   "source": [
    "explode = (0,0.1)\n",
    "labels = ['Postive','Negative']\n",
    "colors = ['beige','paleturquoise']\n",
    "\n",
    "fig = plt.figure(figsize = (15,15))\n",
    "\n",
    "plt.subplot(321)\n",
    "plt.pie(negative_positive[negative_positive.index == 'Asia'].values.tolist()[0],labels = labels, explode = explode, autopct = '%.1f%%', \n",
    "        startangle = 90, colors = colors, shadow = True)\n",
    "plt.title('Asia', fontsize = 15)\n",
    "\n",
    "\n",
    "plt.subplot(322)\n",
    "plt.pie(negative_positive[negative_positive.index == 'North America'].values.tolist()[0],labels = labels, explode = explode, autopct = '%.1f%%', \n",
    "        startangle = 90, colors = colors, shadow = True)\n",
    "plt.title('North America', fontsize = 15)\n",
    "\n",
    "plt.subplot(323)\n",
    "plt.pie(negative_positive[negative_positive.index == 'South America'].values.tolist()[0],labels = labels, explode = explode, autopct = '%.1f%%', \n",
    "        startangle = 90, colors = colors, shadow = True)\n",
    "plt.title('South America', fontsize = 15)\n",
    "\n",
    "plt.subplot(324)\n",
    "plt.pie(negative_positive[negative_positive.index == 'Europe'].values.tolist()[0],labels = labels, explode = explode, autopct = '%.1f%%', \n",
    "        startangle = 90, colors = colors, shadow = True)\n",
    "plt.title('Europe', fontsize = 15)\n",
    "\n",
    "plt.suptitle('Continent-Wise Tested Positive & Negative Percentage Composition', fontsize = 20)"
   ]
  },
  {
   "cell_type": "markdown",
   "metadata": {},
   "source": [
    "---\n",
    "Mối quan hệ giữa số cases và số test: có thế có đường thằng tuyến tính"
   ]
  },
  {
   "cell_type": "code",
   "execution_count": null,
   "metadata": {},
   "outputs": [],
   "source": []
  },
  {
   "cell_type": "code",
   "execution_count": null,
   "metadata": {},
   "outputs": [],
   "source": []
  }
 ],
 "metadata": {
  "kernelspec": {
   "display_name": "Python 3",
   "language": "python",
   "name": "python3"
  },
  "language_info": {
   "codemirror_mode": {
    "name": "ipython",
    "version": 3
   },
   "file_extension": ".py",
   "mimetype": "text/x-python",
   "name": "python",
   "nbconvert_exporter": "python",
   "pygments_lexer": "ipython3",
   "version": "3.8.5"
  }
 },
 "nbformat": 4,
 "nbformat_minor": 4
}
